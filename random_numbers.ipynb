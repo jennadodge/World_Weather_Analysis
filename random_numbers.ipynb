{
 "cells": [
  {
   "cell_type": "code",
   "execution_count": 2,
   "id": "aaee55b5",
   "metadata": {},
   "outputs": [],
   "source": [
    "# Import the random module.\n",
    "import random"
   ]
  },
  {
   "cell_type": "code",
   "execution_count": 3,
   "id": "d383761d",
   "metadata": {},
   "outputs": [
    {
     "data": {
      "text/plain": [
       "28"
      ]
     },
     "execution_count": 3,
     "metadata": {},
     "output_type": "execute_result"
    }
   ],
   "source": [
    "# Test random integer function\n",
    "random.randint(-90,90)"
   ]
  },
  {
   "cell_type": "code",
   "execution_count": 4,
   "id": "280be066",
   "metadata": {},
   "outputs": [
    {
     "data": {
      "text/plain": [
       "0.7791370740954489"
      ]
     },
     "execution_count": 4,
     "metadata": {},
     "output_type": "execute_result"
    }
   ],
   "source": [
    "# test random() function\n",
    "random.random()"
   ]
  },
  {
   "cell_type": "code",
   "execution_count": 5,
   "id": "482dbad2",
   "metadata": {},
   "outputs": [
    {
     "data": {
      "text/plain": [
       "56.28936666480179"
      ]
     },
     "execution_count": 5,
     "metadata": {},
     "output_type": "execute_result"
    }
   ],
   "source": [
    "# Combine the two to generate a floating point decimal between -90 and 90 to create a random latitude\n",
    "random_number = random.randint(-90,89) + random.random()\n",
    "random_number"
   ]
  },
  {
   "cell_type": "code",
   "execution_count": 7,
   "id": "2d6cf123",
   "metadata": {},
   "outputs": [
    {
     "data": {
      "text/plain": [
       "[85.23635078373556,\n",
       " -8.570433727593135,\n",
       " -84.81867532591805,\n",
       " -84.45168078054901,\n",
       " 23.80511834573206,\n",
       " 47.78029938824184,\n",
       " -79.43037811057128,\n",
       " -11.199136135238376,\n",
       " 48.41277790570289,\n",
       " -32.978492288162606]"
      ]
     },
     "execution_count": 7,
     "metadata": {},
     "output_type": "execute_result"
    }
   ],
   "source": [
    "# Now create 10 random point latitudes\n",
    "x = 1\n",
    "latitudes = []\n",
    "while x < 11:\n",
    "    random_lat = random.randint(-90,89) + random.random()\n",
    "    latitudes.append(random_lat)\n",
    "    x += 1\n",
    "latitudes"
   ]
  },
  {
   "cell_type": "code",
   "execution_count": 8,
   "id": "c250b367",
   "metadata": {},
   "outputs": [
    {
     "data": {
      "text/plain": [
       "-22"
      ]
     },
     "execution_count": 8,
     "metadata": {},
     "output_type": "execute_result"
    }
   ],
   "source": [
    "# Try another function randrange()\n",
    "random.randrange(-90,90,step=1)"
   ]
  },
  {
   "cell_type": "code",
   "execution_count": 9,
   "id": "7c64650c",
   "metadata": {},
   "outputs": [
    {
     "data": {
      "text/plain": [
       "57"
      ]
     },
     "execution_count": 9,
     "metadata": {},
     "output_type": "execute_result"
    }
   ],
   "source": [
    "# Try another function randrange()\n",
    "random.randrange(-90,90,step=3)"
   ]
  },
  {
   "cell_type": "code",
   "execution_count": 10,
   "id": "4ccda029",
   "metadata": {},
   "outputs": [
    {
     "data": {
      "text/plain": [
       "39.43188170004777"
      ]
     },
     "execution_count": 10,
     "metadata": {},
     "output_type": "execute_result"
    }
   ],
   "source": [
    "# Test out the uniform() function\n",
    "random.uniform(-90,90)"
   ]
  },
  {
   "cell_type": "code",
   "execution_count": 11,
   "id": "ca2f3eea",
   "metadata": {},
   "outputs": [],
   "source": [
    "# Import the NumPy Module\n",
    "import numpy as np"
   ]
  },
  {
   "cell_type": "code",
   "execution_count": 12,
   "id": "e276bbc5",
   "metadata": {},
   "outputs": [
    {
     "data": {
      "text/plain": [
       "-30.908494910482403"
      ]
     },
     "execution_count": 12,
     "metadata": {},
     "output_type": "execute_result"
    }
   ],
   "source": [
    "# Use NumPy's built in random module to generate a random number\n",
    "np.random.uniform(-90.000,90.000)"
   ]
  },
  {
   "cell_type": "code",
   "execution_count": 13,
   "id": "24f53be2",
   "metadata": {},
   "outputs": [
    {
     "data": {
      "text/plain": [
       "array([ 60.70467949, -87.40828482,  10.36909819,  84.19196423,\n",
       "       -24.61378484, -81.27064465, -76.77886307,  45.38243288,\n",
       "       -52.0296777 ,   8.50290776,  71.56211247,  26.09879934,\n",
       "       -75.03449707,  38.81683988,  67.59708411,  31.77784827,\n",
       "        -2.72629502, -60.7981916 , -44.93248459,  29.48867948,\n",
       "       -73.92746957,  14.84710132, -64.03619231, -47.26617871,\n",
       "        17.55780876, -49.84062968,  -0.18022653, -30.33357895,\n",
       "        28.16195115, -78.08047332, -73.6225835 , -89.29991231,\n",
       "       -64.30389606, -26.17430049, -84.79011895, -15.53088791,\n",
       "        -8.77168591,  10.96204624, -50.44144214, -69.3993799 ,\n",
       "        50.72042183, -13.42992102, -11.35069722,  82.90786536,\n",
       "       -74.0706138 ,  -4.31088197, -11.02414142,  27.68319758,\n",
       "         8.20312124,  52.48777077])"
      ]
     },
     "execution_count": 13,
     "metadata": {},
     "output_type": "execute_result"
    }
   ],
   "source": [
    "# Use NumPy's built in random module to generate a random number and use the argument size=50 to generate an \n",
    "# array of 50 floating point numbers between -90, 90\n",
    "np.random.uniform(-90.000,90.000, size = 50)\n"
   ]
  },
  {
   "cell_type": "code",
   "execution_count": 14,
   "id": "1e271462",
   "metadata": {},
   "outputs": [],
   "source": [
    "# Import timeit to time code\n",
    "import timeit"
   ]
  },
  {
   "cell_type": "code",
   "execution_count": 15,
   "id": "c0261b95",
   "metadata": {},
   "outputs": [
    {
     "name": "stdout",
     "output_type": "stream",
     "text": [
      "16.2 µs ± 180 ns per loop (mean ± std. dev. of 7 runs, 100000 loops each)\n"
     ]
    }
   ],
   "source": [
    "%timeit np.random.uniform(-90.000,90.000,size=1500)"
   ]
  },
  {
   "cell_type": "code",
   "execution_count": 17,
   "id": "e4ffaf4e",
   "metadata": {},
   "outputs": [
    {
     "name": "stdout",
     "output_type": "stream",
     "text": [
      "5.69 ms ± 1.7 ms per loop (mean ± std. dev. of 7 runs, 100 loops each)\n"
     ]
    }
   ],
   "source": [
    "def latitudes(size):\n",
    "    latitudes=[]\n",
    "    x=0\n",
    "    while x < (size):\n",
    "        random_lat = random.randint(-90,90) + random.random()\n",
    "        latitudes.append(random_lat)\n",
    "        x +=1\n",
    "    return latitudes\n",
    "# Call the function with 1500.\n",
    "%timeit latitudes(1500)"
   ]
  },
  {
   "cell_type": "code",
   "execution_count": null,
   "id": "8566a1a6",
   "metadata": {},
   "outputs": [],
   "source": []
  }
 ],
 "metadata": {
  "kernelspec": {
   "display_name": "PythonData",
   "language": "python",
   "name": "pythondata"
  },
  "language_info": {
   "codemirror_mode": {
    "name": "ipython",
    "version": 3
   },
   "file_extension": ".py",
   "mimetype": "text/x-python",
   "name": "python",
   "nbconvert_exporter": "python",
   "pygments_lexer": "ipython3",
   "version": "3.7.11"
  }
 },
 "nbformat": 4,
 "nbformat_minor": 5
}
